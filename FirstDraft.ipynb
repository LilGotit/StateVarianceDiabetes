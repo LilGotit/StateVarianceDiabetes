{
 "cells": [
  {
   "attachments": {},
   "cell_type": "markdown",
   "metadata": {},
   "source": [
    "Beginning idea for two datasets:\n",
    "\n",
    "States/Kentucky & Some Measureable form of sugar/corn consumption\n",
    "combined with\n",
    "States/Kentucky & Diabetes/Other Health Issue Statistics\n",
    "\n",
    "After joining the datasets, and filtering out the redundant state column, use these two statistics to compare/contrast, as well as calculate a new statistic of measure\n",
    "\n",
    "Then write about the initial thoughts and eventual conclusions."
   ]
  },
  {
   "cell_type": "code",
   "execution_count": 2,
   "metadata": {},
   "outputs": [],
   "source": [
    "import pandas as pd\n",
    "import requests as req\n",
    "import matplotlib as mpl\n",
    "import venv\n"
   ]
  }
 ],
 "metadata": {
  "kernelspec": {
   "display_name": "Python 3",
   "language": "python",
   "name": "python3"
  },
  "language_info": {
   "codemirror_mode": {
    "name": "ipython",
    "version": 3
   },
   "file_extension": ".py",
   "mimetype": "text/x-python",
   "name": "python",
   "nbconvert_exporter": "python",
   "pygments_lexer": "ipython3",
   "version": "3.9.13"
  },
  "orig_nbformat": 4,
  "vscode": {
   "interpreter": {
    "hash": "06bdc651400f9c0aa4bf72105d116f15d3a9f668c47c99b1fb55419107878302"
   }
  }
 },
 "nbformat": 4,
 "nbformat_minor": 2
}
